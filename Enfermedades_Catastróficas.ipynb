{
  "nbformat": 4,
  "nbformat_minor": 0,
  "metadata": {
    "colab": {
      "provenance": []
    },
    "kernelspec": {
      "name": "python3",
      "display_name": "Python 3"
    },
    "language_info": {
      "name": "python"
    }
  },
  "cells": [
    {
      "cell_type": "markdown",
      "source": [
        "Este código extrae los pacientes beneficiarios del Seguro Social Campecino que, durante el mes, han sido atendidos con diagnósticos compatibles con enfermedades catastróficas. Los archivos de origen corresponde al consolidado mensual de atenciones de las distintas áreas del hospital y el Archivo Plano, que es el que engloba la facturación del mes."
      ],
      "metadata": {
        "id": "B875P1yfdwfM"
      }
    },
    {
      "cell_type": "markdown",
      "source": [
        "# Importanción de librerías y designación de variables"
      ],
      "metadata": {
        "id": "Mz9OZ05TfTSq"
      }
    },
    {
      "cell_type": "code",
      "execution_count": null,
      "metadata": {
        "id": "4-73sy8CSo6T"
      },
      "outputs": [],
      "source": [
        "import pandas as pd\n",
        "import numpy as np\n",
        "\n",
        "# Designación de variables\n",
        "CE = 'CE.xlsx'\n",
        "ER_CE = 'EMERGENCIA (CE).xlsx'\n",
        "ER_HO = 'EMERGENCIA (HO).xlsx'\n",
        "HO = 'HOSPITALIZACION.xlsx'\n",
        "pestaña = 'BD'\n",
        "\n",
        "# Designación de dataframes\n",
        "df_CE = pd.read_excel(CE, sheet_name= pestaña, dtype={'CEDULA': str})\n",
        "df_ER_CE = pd.read_excel(ER_CE, sheet_name= pestaña, dtype={'CEDULA': str})\n",
        "df_ER_HO = pd.read_excel(ER_HO, sheet_name= pestaña, dtype={'CEDULA': str})\n",
        "df_HO = pd.read_excel(HO, sheet_name= pestaña, dtype={'CEDULA': str})"
      ]
    },
    {
      "cell_type": "code",
      "source": [
        "# Se extraen los códigos CIE-10 correspondientes a las enfermedades catastróficas\n",
        "codigos = [\" C00\",\t\" C000\",\t\" C001\",\t\" C002\",\t\" C003\",\t\" C004\",\t\" C005\",\t\" C006\",\t\" C008\",\t\" C009\",\t\" C01\",\t\" C02\",\t\" C020\",\n",
        "           \" C021\",\t\" C022\",\t\" C023\",\t\" C024\",\t\" C028\",\t\" C029\",\t\" C03\",\t\" C030\",\t\" C031\",\t\" C039\",\t\" C04\",\t\" C040\",\t\" C041\",\n",
        "           \" C048\",\t\" C049\",\t\" C05\",\t\" C050\",\t\" C051\",\t\" C052\",\t\" C058\",\t\" C059\",\t\" C06\",\t\" C060\",\t\" C061\",\t\" C062\",\t\" C068\",\n",
        "           \" C069\",\t\" C07\",\t\" C08\",\t\" C080\",\t\" C081\",\t\" C088\",\t\" C089\",\t\" C09\",\t\" C090\",\t\" C091\",\t\" C098\",\t\" C099\",\t\" C10\",\t\" C100\",\n",
        "           \" C101\",\t\" C102\",\t\" C103\",\t\" C104\",\t\" C108\",\t\" C109\",\t\" C11\",\t\" C110\",\t\" C111\",\t\" C112\",\t\" C113\",\t\" C118\",\t\" C119\",\n",
        "           \" C12\",\t\" C13\",\t\" C130\",\t\" C131\",\t\" C132\",\t\" C138\",\t\" C139\",\t\" C14\",\t\" C140\",\t\" C142\",\t\" C148\",\t\" C15\",\t\" C150\",\t\" C151\",\n",
        "           \" C152\",\t\" C153\",\t\" C154\",\t\" C155\",\t\" C158\",\t\" C159\",\t\" C16\",\t\" C160\",\t\" C161\",\t\" C162\",\t\" C163\",\t\" C164\",\t\" C165\",\n",
        "           \" C166\",\t\" C168\",\t\" C169\",\t\" C17\",\t\" C170\",\t\" C171\",\t\" C172\",\t\" C173\",\t\" C178\",\t\" C179\",\t\" C18\",\t\" C180\",\t\" C181\",\n",
        "           \" C182\",\t\" C183\",\t\" C184\",\t\" C185\",\t\" C186\",\t\" C187\",\t\" C188\",\t\" C189\",\t\" C19\",\t\" C20\",\t\" C21\",\t\" C210\",\t\" C211\",\t\" C212\",\n",
        "           \" C218\",\t\" C22\",\t\" C220\",\t\" C221\",\t\" C222\",\t\" C223\",\t\" C224\",\t\" C227\",\t\" C229\",\t\" C23\",\t\" C24\",\t\" C240\",\t\" C241\",\t\" C248\",\n",
        "           \" C249\",\t\" C25\",\t\" C250\",\t\" C251\",\t\" C252\",\t\" C253\",\t\" C254\",\t\" C257\",\t\" C258\",\t\" C259\",\t\" C26\",\t\" C260\",\t\" C261\",\t\" C268\",\n",
        "           \" C269\",\t\" C30\",\t\" C300\",\t\" C301\",\t\" C31\",\t\" C310\",\t\" C311\",\t\" C312\",\t\" C313\",\t\" C318\",\t\" C319\",\t\" C32\",\t\" C320\",\t\" C321\",\n",
        "           \" C322\",\t\" C323\",\t\" C328\",\t\" C329\",\t\" C33\",\t\" C34\",\t\" C340\",\t\" C341\",\t\" C342\",\t\" C343\",\t\" C348\",\t\" C349\",\t\" C37\",\t\" C38\",\n",
        "           \" C380\",\t\" C381\",\t\" C382\",\t\" C383\",\t\" C384\",\t\" C388\",\t\" C39\",\t\" C390\",\t\" C398\",\t\" C399\",\t\" C40\",\t\" C400\",\t\" C401\",\t\" C402\",\n",
        "           \" C403\",\t\" C408\",\t\" C409\",\t\" C41\",\t\" C410\",\t\" C411\",\t\" C412\",\t\" C413\",\t\" C414\",\t\" C418\",\t\" C419\",\t\" C43\",\t\" C430\",\t\" C431\",\n",
        "           \" C432\",\t\" C433\",\t\" C434\",\t\" C435\",\t\" C436\",\t\" C437\",\t\" C438\",\t\" C439\",\t\" C44\",\t\" C440\",\t\" C441\",\t\" C442\",\t\" C443\",\t\" C444\",\n",
        "           \" C445\",\t\" C446\",\t\" C447\",\t\" C448\",\t\" C449\",\t\" C45\",\t\" C450\",\t\" C451\",\t\" C452\",\t\" C457\",\t\" C459\",\t\" C46\",\t\" C460\",\t\" C461\",\n",
        "           \" C462\",\t\" C463\",\t\" C467\",\t\" C468\",\t\" C469\",\t\" C47\",\t\" C470\",\t\" C471\",\t\" C472\",\t\" C473\",\t\" C474\",\t\" C475\",\t\" C476\",\t\" C478\",\n",
        "           \" C479\",\t\" C48\",\t\" C480\",\t\" C481\",\t\" C482\",\t\" C488\",\t\" C49\",\t\" C490\",\t\" C491\",\t\" C492\",\t\" C493\",\t\" C494\",\t\" C495\",\t\" C496\",\n",
        "           \" C498\",\t\" C499\",\t\" C50\",\t\" C500\",\t\" C501\",\t\" C502\",\t\" C503\",\t\" C504\",\t\" C505\",\t\" C506\",\t\" C508\",\t\" C509\",\t\" C51\",\t\" C510\",\n",
        "           \" C511\",\t\" C512\",\t\" C518\",\t\" C519\",\t\" C52\",\t\" C53\",\t\" C530\",\t\" C531\",\t\" C538\",\t\" C539\",\t\" C54\",\t\" C540\",\t\" C541\",\t\" C542\",\n",
        "           \" C543\",\t\" C548\",\t\" C549\",\t\" C55\",\t\" C56\",\t\" C57\",\t\" C570\",\t\" C571\",\t\" C572\",\t\" C573\",\t\" C574\",\t\" C577\",\t\" C578\",\t\" C579\",\n",
        "           \" C58\",\t\" C60\",\t\" C600\",\t\" C601\",\t\" C602\",\t\" C608\",\t\" C609\",\t\" C61\",\t\" C62\",\t\" C620\",\t\" C621\",\t\" C629\",\t\" C63\",\t\" C630\",\n",
        "           \" C631\",\t\" C632\",\t\" C637\",\t\" C638\",\t\" C639\",\t\" C64\",\t\" C65\",\t\" C66\",\t\" C67\",\t\" C670\",\t\" C671\",\t\" C672\",\t\" C673\",\t\" C674\",\n",
        "           \" C675\",\t\" C676\",\t\" C677\",\t\" C678\",\t\" C679\",\t\" C68\",\t\" C680\",\t\" C681\",\t\" C688\",\t\" C689\",\t\" C69\",\t\" C690\",\t\" C691\",\t\" C692\",\n",
        "           \" C693\",\t\" C694\",\t\" C695\",\t\" C696\",\t\" C698\",\t\" C699\",\t\" C70\",\t\" C700\",\t\" C701\",\t\" C709\",\t\" C71\",\t\" C710\",\t\" C711\",\t\" C712\",\n",
        "           \" C713\",\t\" C714\",\t\" C715\",\t\" C716\",\t\" C717\",\t\" C718\",\t\" C719\",\t\" C72\",\t\" C720\",\t\" C721\",\t\" C722\",\t\" C723\",\t\" C724\",\t\" C725\",\n",
        "           \" C728\",\t\" C729\",\t\" C73\",\t\" C74\",\t\" C740\",\t\" C741\",\t\" C749\",\t\" C75\",\t\" C750\",\t\" C751\",\t\" C752\",\t\" C753\",\t\" C754\",\t\" C755\",\n",
        "           \" C758\",\t\" C759\",\t\" C76\",\t\" C760\",\t\" C761\",\t\" C762\",\t\" C763\",\t\" C764\",\t\" C765\",\t\" C767\",\t\" C768\",\t\" C77\",\t\" C770\",\t\" C771\",\n",
        "           \" C772\",\t\" C773\",\t\" C774\",\t\" C775\",\t\" C778\",\t\" C779\",\t\" C78\",\t\" C780\",\t\" C781\",\t\" C782\",\t\" C783\",\t\" C784\",\t\" C785\",\t\" C786\",\n",
        "           \" C787\",\t\" C788\",\t\" C79\",\t\" C790\",\t\" C791\",\t\" C792\",\t\" C793\",\t\" C794\",\t\" C795\",\t\" C796\",\t\" C797\",\t\" C798\",\t\" C799\",\t\" C80\",\n",
        "           \" C800\",\t\" C809\",\t\" C81\",\t\" C810\",\t\" C811\",\t\" C812\",\t\" C813\",\t\" C814\",\t\" C817\",\t\" C819\",\t\" C82\",\t\" C820\",\t\" C821\",\t\" C822\",\n",
        "           \" C823\",\t\" C824\",\t\" C825\",\t\" C826\",\t\" C827\",\t\" C829\",\t\" C83\",\t\" C830\",\t\" C831\",\t\" C833\",\t\" C835\",\t\" C837\",\t\" C838\",\t\" C839\",\n",
        "           \" C84\",\t\" C840\",\t\" C841\",\t\" C844\",\t\" C845\",\t\" C846\",\t\" C847\",\t\" C848\",\t\" C849\",\t\" C85\",\t\" C850\",\t\" C851\",\t\" C852\",\t\" C857\",\n",
        "           \" C859\",\t\" C86\",\t\" C860\",\t\" C861\",\t\" C862\",\t\" C863\",\t\" C864\",\t\" C865\",\t\" C866\",\t\" C88\",\t\" C880\",\t\" C881\",\t\" C882\",\t\" C883\",\n",
        "           \" C884\",\t\" C887\",\t\" C889\",\t\" C90\",\t\" C900\",\t\" C901\",\t\" C902\",\t\" C903\",\t\" C91\",\t\" C910\",\t\" C911\",\t\" C912\",\t\" C913\",\t\" C914\",\n",
        "           \" C915\",\t\" C916\",\t\" C917\",\t\" C918\",\t\" C919\",\t\" C92\",\t\" C920\",\t\" C921\",\t\" C922\",\t\" C923\",\t\" C924\",\t\" C925\",\t\" C926\",\t\" C927\",\n",
        "           \" C928\",\t\" C929\",\t\" C93\",\t\" C930\",\t\" C931\",\t\" C932\",\t\" C933\",\t\" C937\",\t\" C939\",\t\" C94\",\t\" C940\",\t\" C942\",\t\" C943\",\t\" C944\",\n",
        "           \" C945\",\t\" C946\",\t\" C947\",\t\" C95\",\t\" C950\",\t\" C951\",\t\" C952\",\t\" C957\",\t\" C959\",\t\" C96\",\t\" C960\",\t\" C961\",\t\" C962\",\t\" C963\",\n",
        "           \" C964\",\t\" C965\",\t\" C966\",\t\" C967\",\t\" C968\",\t\" C969\",\t\" C97\",\t\" D00\",\t\" D000\",\t\" D001\",\t\" D002\",\t\" D01\",\t\" D010\",\t\" D011\",\n",
        "           \" D012\",\t\" D013\",\t\" D014\",\t\" D015\",\t\" D017\",\t\" D019\",\t\" D02\",\t\" D020\",\t\" D021\",\t\" D022\",\t\" D023\",\t\" D024\",\t\" D03\",\t\" D030\",\n",
        "           \" D031\",\t\" D032\",\t\" D033\",\t\" D034\",\t\" D035\",\t\" D036\",\t\" D037\",\t\" D038\",\t\" D039\",\t\" D04\",\t\" D040\",\t\" D041\",\t\" D042\",\t\" D043\",\n",
        "           \" D044\",\t\" D045\",\t\" D046\",\t\" D047\",\t\" D048\",\t\" D049\",\t\" D05\",\t\" D050\",\t\" D051\",\t\" D057\",\t\" D059\",\t\" D06\",\t\" D060\",\t\" D061\",\n",
        "           \" D067\",\t\" D069\",\t\" D07\",\t\" D070\",\t\" D071\",\t\" D072\",\t\" D073\",\t\" D074\",\t\" D075\",\t\" D076\",\t\" D09\",\t\" D090\",\t\" D091\",\t\" D092\",\n",
        "           \" D093\",\t\" D097\",\t\" D099\",\t\" E340\",\t\" G800\",\t\" G801\",\t\" G802\",\t\" G804\",\t\" I050\",\t\" I052\",\t\" I058\",\t\" I059\",\t\" I070\",\t\" I071\",\n",
        "           \" I072\",\t\" I078\",\t\" I079\",\t\" I08\",\t\" I080\",\t\" I081\",\t\" I082\",\t\" I083\",\t\" I088\",\t\" I089\",\t\" I671\",\t\" I71\",\t\" I711\",\t\" I712\",\n",
        "           \" I713\",\t\" I714\",\t\" I715\",\t\" I716\",\t\" I718\",\t\" I719\",\t\" I722\",\t\" I723\",\t\" I725\",\t\" I726\",\t\" N18\",\t\" N180\",\t\" N181\",\t\" N182\",\n",
        "           \" N183\",\t\" N184\",\t\" N185\",\t\" N188\",\t\" N189\",\t\" Q030\",\t\" Q20\",\t\" Q200\",\t\" Q201\",\t\" Q202\",\t\" Q203\",\t\" Q204\",\t\" Q205\",\t\" Q206\",\n",
        "           \" Q208\",\t\" Q209\",\t\" Q21\",\t\" Q210\",\t\" Q211\",\t\" Q212\",\t\" Q213\",\t\" Q214\",\t\" Q218\",\t\" Q219\",\t\" Q22\",\t\" Q220\",\t\" Q221\",\t\" Q222\",\n",
        "           \" Q223\",\t\" Q224\",\t\" Q225\",\t\" Q226\",\t\" Q228\",\t\" Q229\",\t\" Q23\",\t\" Q230\",\t\" Q231\",\t\" Q232\",\t\" Q233\",\t\" Q234\",\t\" Q238\",\t\" Q239\",\n",
        "           \" Q24\",\t\" Q240\",\t\" Q241\",\t\" Q242\",\t\" Q243\",\t\" Q244\",\t\" Q245\",\t\" Q246\",\t\" Q248\",\t\" Q249\",\t\" Q25\",\t\" Q250\",\t\" Q251\",\t\" Q252\",\n",
        "           \" Q253\",\t\" Q254\",\t\" Q255\",\t\" Q256\",\t\" Q257\",\t\" Q258\",\t\" Q259\",\t\" Q26\",\t\" Q260\",\t\" Q261\",\t\" Q262\",\t\" Q263\",\t\" Q264\",\t\" Q28\",\n",
        "           \" Q280\",\t\" Q281\",\t\" Q282\",\t\" Q283\",\t\" Q893\",\t\" T950\",\t\" T951\",\t\" T952\",\t\" T953\",\t\" T954\",\t\" T958\",\t\" T959\",\t\" Z940\",\t\" Z944\",\n",
        "           \" I650\",\t\" I651\",\t\" I653\",\t\" I658\",\t\" I66\",\t\" I660\",\t\" I661\",\t\" I662\",\t\" I663\",\t\" I664\",\t\" I668\",\t\" C832\",\t\" C834\",\t\" C836\",\n",
        "           \" C842\",\t\" C843\",]\n"
      ],
      "metadata": {
        "id": "TeIV3rsdVmSX"
      },
      "execution_count": 24,
      "outputs": []
    },
    {
      "cell_type": "code",
      "source": [
        "# Eliminación de duplicados por coincidencia de número de cédula y código CIE-10\n",
        "df_CE = df_CE.drop_duplicates(['CEDULA', 'CIE10'])\n",
        "df_ER_CE = df_ER_CE.drop_duplicates(['CEDULA', 'CIE10'])\n",
        "df_ER_HO = df_ER_HO.drop_duplicates(['CEDULA', 'CIE10'])\n",
        "df_HO = df_HO.drop_duplicates(['CEDULA', 'CIE10'])"
      ],
      "metadata": {
        "id": "1drUv-pEmnOq"
      },
      "execution_count": 25,
      "outputs": []
    },
    {
      "cell_type": "code",
      "source": [
        "# Se filtran los tipos de afiliación (TIP AF) que contenga CA y CB que son los que corresponden al Seguro Social Campecino\n",
        "SSC_CE = df_CE[df_CE['TIP AF'].isin(['CA', 'CB'])]\n",
        "SSC_ER_CE = df_ER_CE[df_ER_CE['TIP AF'].isin(['CA', 'CB'])]\n",
        "SSC_ER_HO = df_ER_HO[df_ER_HO['TIP AF'].isin(['CA', 'CB'])]\n",
        "SSC_HO = df_HO[df_HO['TIP AF'].isin(['CA', 'CB'])]"
      ],
      "metadata": {
        "id": "18XyH886nxz7"
      },
      "execution_count": 26,
      "outputs": []
    },
    {
      "cell_type": "code",
      "source": [
        "SSC_HO.head(2)"
      ],
      "metadata": {
        "id": "4-K2pbldmru9"
      },
      "execution_count": null,
      "outputs": []
    },
    {
      "cell_type": "code",
      "source": [
        "# Se crean los DataFrames que contengan lo pacientes filtrados por tipo de seguro y por código CIE-10\n",
        "enf_catastroficas_CE = SSC_CE[SSC_CE['CIE10'].isin(codigos)][['EDAD', 'HCL', 'CEDULA', 'AFILIADO', 'SEXO', 'FEC CITA', 'TIP AF', 'CIE10', 'DESCRIPCION', 'DEPE', 'DEPENDENCIA', 'MEDICO']]\n",
        "enf_catastroficas_ER_CE = SSC_ER_CE[SSC_ER_CE['CIE10'].isin(codigos)][['EDAD', 'HCL', 'CEDULA', 'AFILIADO', 'SEXO', 'FEC CITA', 'TIP AF', 'CIE10', 'DESCRIPCION', 'DEPE', 'DEPENDENCIA', 'MEDICO']]\n",
        "enf_catastroficas_ER_HO = SSC_ER_HO[SSC_ER_HO['CIE10'].isin(codigos)][['EDAD', 'CASO', 'HCL', 'F ING', 'CEDULA', 'AFILIADO', 'SEXO', 'FEC ALTA', 'TIP AF', 'CIE10', 'DESCRIPCION', 'DEP', 'DEPENDENCIA']]\n",
        "enf_catastroficas_HO = SSC_HO[SSC_HO['CIE10'].isin(codigos)][['EDAD', 'CASO', 'HCL', 'F ING', 'CEDULA', 'AFILIADO', 'SEXO', 'FEC ALTA', 'TIP AF', 'CIE10', 'DESCRIPCION', 'DEP', 'DEPENDENCIA']]"
      ],
      "metadata": {
        "id": "rmMzU3bJoGxS"
      },
      "execution_count": 28,
      "outputs": []
    },
    {
      "cell_type": "code",
      "source": [
        "# Se crea la primera pestaña del archvo de Excel\n",
        "enf_catastroficas_CE.to_excel('Catastróficas.xlsx', sheet_name='Consulta Externa', index=False)"
      ],
      "metadata": {
        "id": "WI7fFspZuzMV"
      },
      "execution_count": 29,
      "outputs": []
    },
    {
      "cell_type": "code",
      "source": [
        "# Se crean las siguientes pestañas del archivo de Excel\n",
        "with pd.ExcelWriter('Catastróficas.xlsx', engine='openpyxl', mode='a') as writer:\n",
        "    enf_catastroficas_ER_CE.to_excel(writer, sheet_name= 'ER CE', index= False)\n",
        "    enf_catastroficas_ER_HO.to_excel(writer, sheet_name= 'ER HO', index= False)\n",
        "    enf_catastroficas_HO.to_excel(writer, sheet_name= 'Hospitalización', index= False)"
      ],
      "metadata": {
        "id": "zc0U-NGoH-Dw"
      },
      "execution_count": 30,
      "outputs": []
    },
    {
      "cell_type": "markdown",
      "source": [
        "# ARCHIVO PLANO"
      ],
      "metadata": {
        "id": "GHBArF5Czg8-"
      }
    },
    {
      "cell_type": "markdown",
      "source": [
        "El Archivo Plano engloba la información de la facturación del mes, se sigue el mismo proceso anterior."
      ],
      "metadata": {
        "id": "o07fNixLPoaS"
      }
    },
    {
      "cell_type": "code",
      "source": [
        "# Extracción de códigos correspondientes a las enfermedades catastróficas\n",
        "codigos_AP = [\"C00\",\t\"C000\",\t\"C001\",\t\"C002\",\t\"C003\",\t\"C004\",\t\"C005\",\t\"C006\",\t\"C008\",\t\"C009\",\t\"C01\",\t\"C02\",\t\"C020\",\n",
        "           \"C021\",\t\"C022\",\t\"C023\",\t\"C024\",\t\"C028\",\t\"C029\",\t\"C03\",\t\"C030\",\t\"C031\",\t\"C039\",\t\"C04\",\t\"C040\",\t\"C041\",\n",
        "           \"C048\",\t\"C049\",\t\"C05\",\t\"C050\",\t\"C051\",\t\"C052\",\t\"C058\",\t\"C059\",\t\"C06\",\t\"C060\",\t\"C061\",\t\"C062\",\t\"C068\",\n",
        "           \"C069\",\t\"C07\",\t\"C08\",\t\"C080\",\t\"C081\",\t\"C088\",\t\"C089\",\t\"C09\",\t\"C090\",\t\"C091\",\t\"C098\",\t\"C099\",\t\"C10\",\t\"C100\",\n",
        "           \"C101\",\t\"C102\",\t\"C103\",\t\"C104\",\t\"C108\",\t\"C109\",\t\"C11\",\t\"C110\",\t\"C111\",\t\"C112\",\t\"C113\",\t\"C118\",\t\"C119\",\n",
        "           \"C12\",\t\"C13\",\t\"C130\",\t\"C131\",\t\"C132\",\t\"C138\",\t\"C139\",\t\"C14\",\t\"C140\",\t\"C142\",\t\"C148\",\t\"C15\",\t\"C150\",\t\"C151\",\n",
        "           \"C152\",\t\"C153\",\t\"C154\",\t\"C155\",\t\"C158\",\t\"C159\",\t\"C16\",\t\"C160\",\t\"C161\",\t\"C162\",\t\"C163\",\t\"C164\",\t\"C165\",\n",
        "           \"C166\",\t\"C168\",\t\"C169\",\t\"C17\",\t\"C170\",\t\"C171\",\t\"C172\",\t\"C173\",\t\"C178\",\t\"C179\",\t\"C18\",\t\"C180\",\t\"C181\",\n",
        "           \"C182\",\t\"C183\",\t\"C184\",\t\"C185\",\t\"C186\",\t\"C187\",\t\"C188\",\t\"C189\",\t\"C19\",\t\"C20\",\t\"C21\",\t\"C210\",\t\"C211\",\t\"C212\",\n",
        "           \"C218\",\t\"C22\",\t\"C220\",\t\"C221\",\t\"C222\",\t\"C223\",\t\"C224\",\t\"C227\",\t\"C229\",\t\"C23\",\t\"C24\",\t\"C240\",\t\"C241\",\t\"C248\",\n",
        "           \"C249\",\t\"C25\",\t\"C250\",\t\"C251\",\t\"C252\",\t\"C253\",\t\"C254\",\t\"C257\",\t\"C258\",\t\"C259\",\t\"C26\",\t\"C260\",\t\"C261\",\t\"C268\",\n",
        "           \"C269\",\t\"C30\",\t\"C300\",\t\"C301\",\t\"C31\",\t\"C310\",\t\"C311\",\t\"C312\",\t\"C313\",\t\"C318\",\t\"C319\",\t\"C32\",\t\"C320\",\t\"C321\",\n",
        "           \"C322\",\t\"C323\",\t\"C328\",\t\"C329\",\t\"C33\",\t\"C34\",\t\"C340\",\t\"C341\",\t\"C342\",\t\"C343\",\t\"C348\",\t\"C349\",\t\"C37\",\t\"C38\",\n",
        "           \"C380\",\t\"C381\",\t\"C382\",\t\"C383\",\t\"C384\",\t\"C388\",\t\"C39\",\t\"C390\",\t\"C398\",\t\"C399\",\t\"C40\",\t\"C400\",\t\"C401\",\t\"C402\",\n",
        "           \"C403\",\t\"C408\",\t\"C409\",\t\"C41\",\t\"C410\",\t\"C411\",\t\"C412\",\t\"C413\",\t\"C414\",\t\"C418\",\t\"C419\",\t\"C43\",\t\"C430\",\t\"C431\",\n",
        "           \"C432\",\t\"C433\",\t\"C434\",\t\"C435\",\t\"C436\",\t\"C437\",\t\"C438\",\t\"C439\",\t\"C44\",\t\"C440\",\t\"C441\",\t\"C442\",\t\"C443\",\t\"C444\",\n",
        "           \"C445\",\t\"C446\",\t\"C447\",\t\"C448\",\t\"C449\",\t\"C45\",\t\"C450\",\t\"C451\",\t\"C452\",\t\"C457\",\t\"C459\",\t\"C46\",\t\"C460\",\t\"C461\",\n",
        "           \"C462\",\t\"C463\",\t\"C467\",\t\"C468\",\t\"C469\",\t\"C47\",\t\"C470\",\t\"C471\",\t\"C472\",\t\"C473\",\t\"C474\",\t\"C475\",\t\"C476\",\t\"C478\",\n",
        "           \"C479\",\t\"C48\",\t\"C480\",\t\"C481\",\t\"C482\",\t\"C488\",\t\"C49\",\t\"C490\",\t\"C491\",\t\"C492\",\t\"C493\",\t\"C494\",\t\"C495\",\t\"C496\",\n",
        "           \"C498\",\t\"C499\",\t\"C50\",\t\"C500\",\t\"C501\",\t\"C502\",\t\"C503\",\t\"C504\",\t\"C505\",\t\"C506\",\t\"C508\",\t\"C509\",\t\"C51\",\t\"C510\",\n",
        "           \"C511\",\t\"C512\",\t\"C518\",\t\"C519\",\t\"C52\",\t\"C53\",\t\"C530\",\t\"C531\",\t\"C538\",\t\"C539\",\t\"C54\",\t\"C540\",\t\"C541\",\t\"C542\",\n",
        "           \"C543\",\t\"C548\",\t\"C549\",\t\"C55\",\t\"C56\",\t\"C57\",\t\"C570\",\t\"C571\",\t\"C572\",\t\"C573\",\t\"C574\",\t\"C577\",\t\"C578\",\t\"C579\",\n",
        "           \"C58\",\t\"C60\",\t\"C600\",\t\"C601\",\t\"C602\",\t\"C608\",\t\"C609\",\t\"C61\",\t\"C62\",\t\"C620\",\t\"C621\",\t\"C629\",\t\"C63\",\t\"C630\",\n",
        "           \"C631\",\t\"C632\",\t\"C637\",\t\"C638\",\t\"C639\",\t\"C64\",\t\"C65\",\t\"C66\",\t\"C67\",\t\"C670\",\t\"C671\",\t\"C672\",\t\"C673\",\t\"C674\",\n",
        "           \"C675\",\t\"C676\",\t\"C677\",\t\"C678\",\t\"C679\",\t\"C68\",\t\"C680\",\t\"C681\",\t\"C688\",\t\"C689\",\t\"C69\",\t\"C690\",\t\"C691\",\t\"C692\",\n",
        "           \"C693\",\t\"C694\",\t\"C695\",\t\"C696\",\t\"C698\",\t\"C699\",\t\"C70\",\t\"C700\",\t\"C701\",\t\"C709\",\t\"C71\",\t\"C710\",\t\"C711\",\t\"C712\",\n",
        "           \"C713\",\t\"C714\",\t\"C715\",\t\"C716\",\t\"C717\",\t\"C718\",\t\"C719\",\t\"C72\",\t\"C720\",\t\"C721\",\t\"C722\",\t\"C723\",\t\"C724\",\t\"C725\",\n",
        "           \"C728\",\t\"C729\",\t\"C73\",\t\"C74\",\t\"C740\",\t\"C741\",\t\"C749\",\t\"C75\",\t\"C750\",\t\"C751\",\t\"C752\",\t\"C753\",\t\"C754\",\t\"C755\",\n",
        "           \"C758\",\t\"C759\",\t\"C76\",\t\"C760\",\t\"C761\",\t\"C762\",\t\"C763\",\t\"C764\",\t\"C765\",\t\"C767\",\t\"C768\",\t\"C77\",\t\"C770\",\t\"C771\",\n",
        "           \"C772\",\t\"C773\",\t\"C774\",\t\"C775\",\t\"C778\",\t\"C779\",\t\"C78\",\t\"C780\",\t\"C781\",\t\"C782\",\t\"C783\",\t\"C784\",\t\"C785\",\t\"C786\",\n",
        "           \"C787\",\t\"C788\",\t\"C79\",\t\"C790\",\t\"C791\",\t\"C792\",\t\"C793\",\t\"C794\",\t\"C795\",\t\"C796\",\t\"C797\",\t\"C798\",\t\"C799\",\t\"C80\",\n",
        "           \"C800\",\t\"C809\",\t\"C81\",\t\"C810\",\t\"C811\",\t\"C812\",\t\"C813\",\t\"C814\",\t\"C817\",\t\"C819\",\t\"C82\",\t\"C820\",\t\"C821\",\t\"C822\",\n",
        "           \"C823\",\t\"C824\",\t\"C825\",\t\"C826\",\t\"C827\",\t\"C829\",\t\"C83\",\t\"C830\",\t\"C831\",\t\"C833\",\t\"C835\",\t\"C837\",\t\"C838\",\t\"C839\",\n",
        "           \"C84\",\t\"C840\",\t\"C841\",\t\"C844\",\t\"C845\",\t\"C846\",\t\"C847\",\t\"C848\",\t\"C849\",\t\"C85\",\t\"C850\",\t\"C851\",\t\"C852\",\t\"C857\",\n",
        "           \"C859\",\t\"C86\",\t\"C860\",\t\"C861\",\t\"C862\",\t\"C863\",\t\"C864\",\t\"C865\",\t\"C866\",\t\"C88\",\t\"C880\",\t\"C881\",\t\"C882\",\t\"C883\",\n",
        "           \"C884\",\t\"C887\",\t\"C889\",\t\"C90\",\t\"C900\",\t\"C901\",\t\"C902\",\t\"C903\",\t\"C91\",\t\"C910\",\t\"C911\",\t\"C912\",\t\"C913\",\t\"C914\",\n",
        "           \"C915\",\t\"C916\",\t\"C917\",\t\"C918\",\t\"C919\",\t\"C92\",\t\"C920\",\t\"C921\",\t\"C922\",\t\"C923\",\t\"C924\",\t\"C925\",\t\"C926\",\t\"C927\",\n",
        "           \"C928\",\t\"C929\",\t\"C93\",\t\"C930\",\t\"C931\",\t\"C932\",\t\"C933\",\t\"C937\",\t\"C939\",\t\"C94\",\t\"C940\",\t\"C942\",\t\"C943\",\t\"C944\",\n",
        "           \"C945\",\t\"C946\",\t\"C947\",\t\"C95\",\t\"C950\",\t\"C951\",\t\"C952\",\t\"C957\",\t\"C959\",\t\"C96\",\t\"C960\",\t\"C961\",\t\"C962\",\t\"C963\",\n",
        "           \"C964\",\t\"C965\",\t\"C966\",\t\"C967\",\t\"C968\",\t\"C969\",\t\"C97\",\t\"D00\",\t\"D000\",\t\"D001\",\t\"D002\",\t\"D01\",\t\"D010\",\t\"D011\",\n",
        "           \"D012\",\t\"D013\",\t\"D014\",\t\"D015\",\t\"D017\",\t\"D019\",\t\"D02\",\t\"D020\",\t\"D021\",\t\"D022\",\t\"D023\",\t\"D024\",\t\"D03\",\t\"D030\",\n",
        "           \"D031\",\t\"D032\",\t\"D033\",\t\"D034\",\t\"D035\",\t\"D036\",\t\"D037\",\t\"D038\",\t\"D039\",\t\"D04\",\t\"D040\",\t\"D041\",\t\"D042\",\t\"D043\",\n",
        "           \"D044\",\t\"D045\",\t\"D046\",\t\"D047\",\t\"D048\",\t\"D049\",\t\"D05\",\t\"D050\",\t\"D051\",\t\"D057\",\t\"D059\",\t\"D06\",\t\"D060\",\t\"D061\",\n",
        "           \"D067\",\t\"D069\",\t\"D07\",\t\"D070\",\t\"D071\",\t\"D072\",\t\"D073\",\t\"D074\",\t\"D075\",\t\"D076\",\t\"D09\",\t\"D090\",\t\"D091\",\t\"D092\",\n",
        "           \"D093\",\t\"D097\",\t\"D099\",\t\"E340\",\t\"G800\",\t\"G801\",\t\"G802\",\t\"G804\",\t\"I050\",\t\"I052\",\t\"I058\",\t\"I059\",\t\"I070\",\t\"I071\",\n",
        "           \"I072\",\t\"I078\",\t\"I079\",\t\"I08\",\t\"I080\",\t\"I081\",\t\"I082\",\t\"I083\",\t\"I088\",\t\"I089\",\t\"I671\",\t\"I71\",\t\"I711\",\t\"I712\",\n",
        "           \"I713\",\t\"I714\",\t\"I715\",\t\"I716\",\t\"I718\",\t\"I719\",\t\"I722\",\t\"I723\",\t\"I725\",\t\"I726\",\t\"N18\",\t\"N180\",\t\"N181\",\t\"N182\",\n",
        "           \"N183\",\t\"N184\",\t\"N185\",\t\"N188\",\t\"N189\",\t\"Q030\",\t\"Q20\",\t\"Q200\",\t\"Q201\",\t\"Q202\",\t\"Q203\",\t\"Q204\",\t\"Q205\",\t\"Q206\",\n",
        "           \"Q208\",\t\"Q209\",\t\"Q21\",\t\"Q210\",\t\"Q211\",\t\"Q212\",\t\"Q213\",\t\"Q214\",\t\"Q218\",\t\"Q219\",\t\"Q22\",\t\"Q220\",\t\"Q221\",\t\"Q222\",\n",
        "           \"Q223\",\t\"Q224\",\t\"Q225\",\t\"Q226\",\t\"Q228\",\t\"Q229\",\t\"Q23\",\t\"Q230\",\t\"Q231\",\t\"Q232\",\t\"Q233\",\t\"Q234\",\t\"Q238\",\t\"Q239\",\n",
        "           \"Q24\",\t\"Q240\",\t\"Q241\",\t\"Q242\",\t\"Q243\",\t\"Q244\",\t\"Q245\",\t\"Q246\",\t\"Q248\",\t\"Q249\",\t\"Q25\",\t\"Q250\",\t\"Q251\",\t\"Q252\",\n",
        "           \"Q253\",\t\"Q254\",\t\"Q255\",\t\"Q256\",\t\"Q257\",\t\"Q258\",\t\"Q259\",\t\"Q26\",\t\"Q260\",\t\"Q261\",\t\"Q262\",\t\"Q263\",\t\"Q264\",\t\"Q28\",\n",
        "           \"Q280\",\t\"Q281\",\t\"Q282\",\t\"Q283\",\t\"Q893\",\t\"T950\",\t\"T951\",\t\"T952\",\t\"T953\",\t\"T954\",\t\"T958\",\t\"T959\",\t\"Z940\",\t\"Z944\",\n",
        "           \"I650\",\t\"I651\",\t\"I653\",\t\"I658\",\t\"I66\",\t\"I660\",\t\"I661\",\t\"I662\",\t\"I663\",\t\"I664\",\t\"I668\",\t\"C832\",\t\"C834\",\t\"C836\",\n",
        "           \"C842\",\t\"C843\",]\n"
      ],
      "metadata": {
        "id": "56N8xusn-N8m"
      },
      "execution_count": 31,
      "outputs": []
    },
    {
      "cell_type": "code",
      "source": [
        "# Creación del DataFrame a partir del Archivo Plano\n",
        "df_archivo_plano = pd.read_excel('Archivo plano.xlsx', dtype={'Identificación \\nafiliado': str})\n",
        "pd.set_option(\"display.max_rows\", None, \"display.max_columns\", None)"
      ],
      "metadata": {
        "id": "SD_toRbFzfJF"
      },
      "execution_count": 32,
      "outputs": []
    },
    {
      "cell_type": "code",
      "source": [
        "# Eliminación de duplicados por número de identificación\n",
        "df_archivo_plano=df_archivo_plano.drop_duplicates(['Identificación \\nafiliado'])"
      ],
      "metadata": {
        "id": "2-NyC8lCR5_I"
      },
      "execution_count": 33,
      "outputs": []
    },
    {
      "cell_type": "code",
      "source": [
        "df_archivo_plano.head(4)"
      ],
      "metadata": {
        "id": "zgaCZkYa0yIs"
      },
      "execution_count": null,
      "outputs": []
    },
    {
      "cell_type": "code",
      "source": [
        "df_archivo_plano.columns"
      ],
      "metadata": {
        "id": "_0mr9CRJ2dnE"
      },
      "execution_count": null,
      "outputs": []
    },
    {
      "cell_type": "markdown",
      "source": [
        "Filtrado según los códigos de CIE-10 y creación de DataFrames según el número de diagnóstico que corresponde a la enfermedad catastrófica"
      ],
      "metadata": {
        "id": "-oauE7ZxRfWi"
      }
    },
    {
      "cell_type": "code",
      "source": [
        "enf_catastroficas_AP1 = df_archivo_plano[df_archivo_plano['Diagnóstico Principal '].isin(codigos_AP)][['Identificación \\nafiliado', 'Nombre afiliado', 'Diagnóstico Principal ']]\n",
        "enf_catastroficas_AP1.head()"
      ],
      "metadata": {
        "id": "uabaFFuh6WYB"
      },
      "execution_count": null,
      "outputs": []
    },
    {
      "cell_type": "code",
      "source": [
        "enf_catastroficas_AP2 = df_archivo_plano[df_archivo_plano['DG, S  – 1'].isin(codigos_AP)][['Identificación \\nafiliado', 'Nombre afiliado', 'DG, S  – 1']]\n",
        "enf_catastroficas_AP2.head()"
      ],
      "metadata": {
        "id": "XqZivOxu5FlP"
      },
      "execution_count": null,
      "outputs": []
    },
    {
      "cell_type": "code",
      "source": [
        "enf_catastroficas_AP3 = df_archivo_plano[df_archivo_plano['Dg, S – 2'].isin(codigos_AP)][['Identificación \\nafiliado', 'Nombre afiliado', 'Dg, S – 2']]\n",
        "enf_catastroficas_AP3.head()"
      ],
      "metadata": {
        "id": "oa1WCeuM2gno"
      },
      "execution_count": null,
      "outputs": []
    },
    {
      "cell_type": "code",
      "source": [
        "enf_catastroficas_AP4 = df_archivo_plano[df_archivo_plano['DG, S – 3'].isin(codigos_AP)][['Identificación \\nafiliado', 'Nombre afiliado', 'DG, S – 3']]\n",
        "enf_catastroficas_AP4.head()"
      ],
      "metadata": {
        "id": "M4W5_oJ64CTw"
      },
      "execution_count": null,
      "outputs": []
    },
    {
      "cell_type": "code",
      "source": [
        "enf_catastroficas_AP5 = df_archivo_plano[df_archivo_plano['DG, S – 4'].isin(codigos_AP)][['Identificación \\nafiliado', 'Nombre afiliado', 'DG, S – 4']]\n",
        "enf_catastroficas_AP5.head()"
      ],
      "metadata": {
        "id": "b5u-VS737sV_"
      },
      "execution_count": null,
      "outputs": []
    },
    {
      "cell_type": "code",
      "source": [
        "enf_catastroficas_AP6 = df_archivo_plano[df_archivo_plano['DG, S – 5'].isin(codigos_AP)][['Identificación \\nafiliado', 'Nombre afiliado', 'DG, S – 5']]\n",
        "enf_catastroficas_AP6.head()"
      ],
      "metadata": {
        "id": "Ld0Yqga-7vCp"
      },
      "execution_count": null,
      "outputs": []
    },
    {
      "cell_type": "code",
      "source": [
        "# Creación del archivo de Excel con sus pestañas\n",
        "with pd.ExcelWriter('Catastróficas_AP.xlsx') as writer:\n",
        "    enf_catastroficas_AP1.to_excel(writer, sheet_name='Dg Principal')\n",
        "    enf_catastroficas_AP2.to_excel(writer, sheet_name='Dg 1')\n",
        "    enf_catastroficas_AP3.to_excel(writer, sheet_name='Dg 2')\n",
        "    enf_catastroficas_AP4.to_excel(writer, sheet_name='Dg 3')\n",
        "    enf_catastroficas_AP5.to_excel(writer, sheet_name='Dg 4')\n",
        "    enf_catastroficas_AP6.to_excel(writer, sheet_name='Dg 5')"
      ],
      "metadata": {
        "id": "ghfu3fym0Lff"
      },
      "execution_count": 42,
      "outputs": []
    }
  ]
}